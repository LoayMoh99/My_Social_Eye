{
 "cells": [
  {
   "cell_type": "code",
   "execution_count": 8,
   "metadata": {},
   "outputs": [
    {
     "name": "stderr",
     "output_type": "stream",
     "text": [
      "f:\\Grad. Project\\GP2\\Codes\\repo_emotion\\venv\\lib\\site-packages\\sklearn\\utils\\deprecation.py:143: FutureWarning: The sklearn.utils.testing module is  deprecated in version 0.22 and will be removed in version 0.24. The corresponding classes / functions should instead be imported from sklearn.utils. Anything that cannot be imported from sklearn.utils is now part of the private API.\n",
      "  warnings.warn(message, FutureWarning)\n"
     ]
    }
   ],
   "source": [
    "import time\n",
    "import os\n",
    "import numpy as np\n",
    "\n",
    "import matplotlib.pyplot as plt\n",
    "import skimage.io as io\n",
    "from sklearn.svm import SVC\n",
    "from sklearn import metrics\n",
    "import lazypredict\n",
    "from lazypredict.Supervised import LazyClassifier\n",
    "\n",
    "from Models.features import LPQ\n",
    "from Assets.CommonFuntions import read_data"
   ]
  },
  {
   "cell_type": "code",
   "execution_count": 3,
   "metadata": {},
   "outputs": [],
   "source": [
    "# Constants and Vaiables\n",
    "IMG_TRAIN_PATH = \"./Assets/data/train\"\n",
    "IMG_TEST_PATH = \"./Assets/data/test\"\n",
    "HAPPY_PATH = \"./Assets/data/train/happy/\"\n",
    "\n",
    "train_folders = os.listdir(IMG_TRAIN_PATH)  # Emotions Folders\n",
    "test_folders = os.listdir(IMG_TEST_PATH)  # Emotions Folders"
   ]
  },
  {
   "cell_type": "code",
   "execution_count": 4,
   "metadata": {},
   "outputs": [
    {
     "name": "stdout",
     "output_type": "stream",
     "text": [
      "angry 3995\n",
      "happy 7215\n",
      "neutral 4965\n",
      "sad 4830\n",
      "surprised 3171\n"
     ]
    }
   ],
   "source": [
    "train_imgs, y_train = read_data(IMG_TRAIN_PATH)"
   ]
  },
  {
   "cell_type": "code",
   "execution_count": 5,
   "metadata": {},
   "outputs": [
    {
     "name": "stdout",
     "output_type": "stream",
     "text": [
      "angry 958\n",
      "happy 1774\n",
      "neutral 1233\n",
      "sad 1247\n",
      "surprised 831\n"
     ]
    }
   ],
   "source": [
    "test_imgs, y_test = read_data(IMG_TEST_PATH)"
   ]
  },
  {
   "cell_type": "code",
   "execution_count": 6,
   "metadata": {},
   "outputs": [],
   "source": [
    "lpq_cls = LPQ()\n",
    "lpq_feats_train = []\n",
    "lpq_feats_test = []\n",
    "for img in train_imgs:\n",
    "    lpq_feats_train.append(lpq_cls.compute(img))\n",
    "\n",
    "for img in test_imgs:\n",
    "    lpq_feats_test.append(lpq_cls.compute(img))"
   ]
  },
  {
   "cell_type": "code",
   "execution_count": 7,
   "metadata": {},
   "outputs": [],
   "source": [
    "x_train = np.array(lpq_feats_train)\n",
    "x_test = np.array(lpq_feats_test)"
   ]
  },
  {
   "cell_type": "code",
   "execution_count": 9,
   "metadata": {},
   "outputs": [
    {
     "name": "stderr",
     "output_type": "stream",
     "text": [
      "100%|██████████| 29/29 [30:51<00:00, 63.83s/it] "
     ]
    },
    {
     "name": "stdout",
     "output_type": "stream",
     "text": [
      "Classifierr Took: 1851.0973618030548 second(s)\n",
      "                               Accuracy  Balanced Accuracy ROC AUC  F1 Score  \\\n",
      "Model                                                                          \n",
      "NuSVC                              0.51               0.49    None      0.50   \n",
      "SVC                                0.51               0.49    None      0.50   \n",
      "XGBClassifier                      0.48               0.46    None      0.47   \n",
      "QuadraticDiscriminantAnalysis      0.45               0.45    None      0.45   \n",
      "LGBMClassifier                     0.46               0.44    None      0.44   \n",
      "KNeighborsClassifier               0.43               0.42    None      0.42   \n",
      "ExtraTreesClassifier               0.45               0.40    None      0.42   \n",
      "RandomForestClassifier             0.44               0.40    None      0.41   \n",
      "LinearDiscriminantAnalysis         0.42               0.40    None      0.41   \n",
      "LogisticRegression                 0.42               0.40    None      0.41   \n",
      "RidgeClassifier                    0.42               0.38    None      0.39   \n",
      "RidgeClassifierCV                  0.42               0.38    None      0.39   \n",
      "CalibratedClassifierCV             0.42               0.38    None      0.39   \n",
      "LinearSVC                          0.42               0.38    None      0.39   \n",
      "BaggingClassifier                  0.38               0.37    None      0.38   \n",
      "NearestCentroid                    0.33               0.34    None      0.32   \n",
      "SGDClassifier                      0.36               0.34    None      0.36   \n",
      "BernoulliNB                        0.33               0.34    None      0.32   \n",
      "GaussianNB                         0.31               0.33    None      0.31   \n",
      "AdaBoostClassifier                 0.36               0.33    None      0.33   \n",
      "DecisionTreeClassifier             0.32               0.33    None      0.32   \n",
      "PassiveAggressiveClassifier        0.33               0.31    None      0.32   \n",
      "Perceptron                         0.33               0.31    None      0.33   \n",
      "ExtraTreeClassifier                0.31               0.31    None      0.31   \n",
      "DummyClassifier                    0.22               0.20    None      0.22   \n",
      "\n",
      "                               Time Taken  \n",
      "Model                                      \n",
      "NuSVC                              537.36  \n",
      "SVC                                274.20  \n",
      "XGBClassifier                       39.46  \n",
      "QuadraticDiscriminantAnalysis        7.53  \n",
      "LGBMClassifier                      13.37  \n",
      "KNeighborsClassifier                67.95  \n",
      "ExtraTreesClassifier                 8.26  \n",
      "RandomForestClassifier              20.36  \n",
      "LinearDiscriminantAnalysis           1.66  \n",
      "LogisticRegression                   8.39  \n",
      "RidgeClassifier                      6.26  \n",
      "RidgeClassifierCV                    1.35  \n",
      "CalibratedClassifierCV             332.45  \n",
      "LinearSVC                           78.35  \n",
      "BaggingClassifier                   34.87  \n",
      "NearestCentroid                      0.32  \n",
      "SGDClassifier                        9.68  \n",
      "BernoulliNB                          0.59  \n",
      "GaussianNB                           0.43  \n",
      "AdaBoostClassifier                  18.80  \n",
      "DecisionTreeClassifier               5.16  \n",
      "PassiveAggressiveClassifier          1.34  \n",
      "Perceptron                           0.68  \n",
      "ExtraTreeClassifier                  0.40  \n",
      "DummyClassifier                      0.28  \n"
     ]
    },
    {
     "name": "stderr",
     "output_type": "stream",
     "text": [
      "\n"
     ]
    }
   ],
   "source": [
    "start = time.time()\n",
    "clf = LazyClassifier(verbose=0, ignore_warnings=True, custom_metric = None)\n",
    "models,predictions = clf.fit(x_train, x_test, y_train, y_test)\n",
    "end = time.time()\n",
    "print(f\"Classifierr Took: {end - start} second(s)\")\n",
    "print(models)"
   ]
  }
 ],
 "metadata": {
  "interpreter": {
   "hash": "fac903841471747198614399c2b636b7d1738aa157e41a1819b23ccf7e493167"
  },
  "kernelspec": {
   "display_name": "Python 3.9.10 ('venv': venv)",
   "language": "python",
   "name": "python3"
  },
  "language_info": {
   "codemirror_mode": {
    "name": "ipython",
    "version": 3
   },
   "file_extension": ".py",
   "mimetype": "text/x-python",
   "name": "python",
   "nbconvert_exporter": "python",
   "pygments_lexer": "ipython3",
   "version": "3.9.10"
  },
  "orig_nbformat": 4
 },
 "nbformat": 4,
 "nbformat_minor": 2
}
