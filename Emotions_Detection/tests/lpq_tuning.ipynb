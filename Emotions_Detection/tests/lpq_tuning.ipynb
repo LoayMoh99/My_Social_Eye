{
 "cells": [
  {
   "cell_type": "code",
   "execution_count": 1,
   "metadata": {},
   "outputs": [],
   "source": [
    "import skimage.io as io\n",
    "import matplotlib.pyplot as plt\n",
    "\n",
    "import numpy as np\n",
    "\n",
    "from sklearn.svm import SVC\n",
    "from sklearn import metrics\n",
    "import time\n",
    "\n",
    "import os\n",
    "import sys\n",
    "current = os.path.dirname(os.path.realpath(os.getcwd()))\n",
    "parent = os.path.dirname(current)\n",
    "sys.path.append(parent)\n",
    "from Emotions_Detection.Models.features import lpq, lpq_plus, PHOG_Algorithm, LPQ, LPQPlus\n",
    "from Emotions_Detection.Assets.CommonFuntions import read_data, read_and_process"
   ]
  },
  {
   "cell_type": "code",
   "execution_count": 2,
   "metadata": {},
   "outputs": [],
   "source": [
    "# Constants and Vaiables\n",
    "IMG_TRAIN_PATH = \"../Assets/data/train\"\n",
    "IMG_TEST_PATH = \"../Assets/data/test\"\n",
    "HAPPY_PATH = \"../Assets/data/train/happy/\"\n",
    "\n",
    "train_folders = os.listdir(IMG_TRAIN_PATH)  # Emotions Folders\n",
    "test_folders = os.listdir(IMG_TEST_PATH)  # Emotions Folders\n",
    "\n",
    "# Intialize dash board for DASK\n",
    "# client = dask.distributed.Client()  # Create a local cluster  "
   ]
  },
  {
   "cell_type": "code",
   "execution_count": 3,
   "metadata": {},
   "outputs": [
    {
     "name": "stdout",
     "output_type": "stream",
     "text": [
      "angry 3995\n",
      "happy 7215\n",
      "neutral 4965\n",
      "sad 4830\n",
      "surprised 3171\n"
     ]
    }
   ],
   "source": [
    "train_imgs, y_train = read_data(IMG_TRAIN_PATH)"
   ]
  },
  {
   "cell_type": "code",
   "execution_count": 4,
   "metadata": {},
   "outputs": [
    {
     "name": "stdout",
     "output_type": "stream",
     "text": [
      "angry 958\n",
      "happy 1774\n",
      "neutral 1233\n",
      "sad 1247\n",
      "surprised 831\n"
     ]
    }
   ],
   "source": [
    "test_imgs, y_test = read_data(IMG_TEST_PATH)"
   ]
  },
  {
   "cell_type": "code",
   "execution_count": 5,
   "metadata": {},
   "outputs": [],
   "source": [
    "lpq_cls = LPQ()\n",
    "lpq_feats_train = []\n",
    "lpq_feats_test = []\n",
    "for img in train_imgs:\n",
    "    lpq_feats_train.append(lpq_cls.compute(img))\n",
    "\n",
    "for img in test_imgs:\n",
    "    lpq_feats_test.append(lpq_cls.compute(img))"
   ]
  },
  {
   "cell_type": "code",
   "execution_count": 6,
   "metadata": {},
   "outputs": [],
   "source": [
    "x_train = np.array(lpq_feats_train)\n",
    "x_test = np.array(lpq_feats_test)"
   ]
  },
  {
   "cell_type": "markdown",
   "metadata": {},
   "source": [
    "## Classifier #1\n",
    "### RBF KERNEL gamma = 1, C = 100\n",
    "### Results:\n",
    "1. training Took: __63 minutes__\n",
    "2. Accuracy: __44.2%__\n",
    "3. Precision: [0.88648649 0.35545321 0.60771704 0.66766467 0.91055046]  \n",
    "clf = SVC(C=100, gamma=1, probability=True)"
   ]
  },
  {
   "cell_type": "code",
   "execution_count": 7,
   "metadata": {},
   "outputs": [
    {
     "name": "stdout",
     "output_type": "stream",
     "text": [
      "classifier initialized...\n",
      "classifier Trained...\n",
      "training Took: 3707.5405280590057 second(s)\n"
     ]
    }
   ],
   "source": [
    "#Create a svm Classifier\n",
    "# SVC(C=1, gamma=1, kernel='poly')\n",
    "start = time.time()\n",
    "clf = SVC(C=100, gamma=1, probability=True)\n",
    "print(\"classifier initialized...\")\n",
    "\n",
    "#Train the model using the training sets\n",
    "clf.fit(x_train, y_train)\n",
    "print(\"classifier Trained...\")\n",
    "end = time.time()\n",
    "print(f\"training Took: {end - start} second(s)\")\n",
    "#Predict the response for test dataset\n",
    "y_pred = clf.predict(x_test)"
   ]
  },
  {
   "cell_type": "code",
   "execution_count": 8,
   "metadata": {},
   "outputs": [
    {
     "name": "stdout",
     "output_type": "stream",
     "text": [
      "Accuracy: 0.441999007115671\n",
      "Precision: [0.88648649 0.35545321 0.60771704 0.66766467 0.91055046]\n"
     ]
    }
   ],
   "source": [
    "print(\"Accuracy:\",metrics.accuracy_score(y_test, y_pred))\n",
    "print(\"Precision:\",metrics.precision_score(y_test, y_pred, average=None))"
   ]
  },
  {
   "cell_type": "markdown",
   "metadata": {},
   "source": [
    "## Classifier #2\n",
    "### Results:  \n",
    "1. training Took: __22 minutes__\n",
    "2. Accuracy:   __49.6%__\n",
    "3. Precision: [0.47011309 0.52148997 0.4200542  0.43621766 0.63346614]  \n",
    "clf2 = SVC(probability=True)"
   ]
  },
  {
   "cell_type": "code",
   "execution_count": 9,
   "metadata": {},
   "outputs": [
    {
     "name": "stdout",
     "output_type": "stream",
     "text": [
      "classifier initialized...\n",
      "classifier Trained...\n",
      "training Took: 1273.7912743091583 second(s)\n"
     ]
    }
   ],
   "source": [
    "#Create a svm Classifier\n",
    "# SVC(C=1, gamma=1, kernel='poly')\n",
    "start = time.time()\n",
    "clf2 = SVC(probability=True)\n",
    "print(\"classifier initialized...\")\n",
    "\n",
    "#Train the model using the training sets\n",
    "clf2.fit(x_train, y_train)\n",
    "print(\"classifier Trained...\")\n",
    "end = time.time()\n",
    "print(f\"training Took: {end - start} second(s)\")\n",
    "#Predict the response for test dataset\n",
    "y_pred = clf2.predict(x_test)"
   ]
  },
  {
   "cell_type": "code",
   "execution_count": 10,
   "metadata": {},
   "outputs": [
    {
     "name": "stdout",
     "output_type": "stream",
     "text": [
      "Accuracy: 0.4957802416018534\n",
      "Precision: [0.47011309 0.52148997 0.4200542  0.43621766 0.63346614]\n"
     ]
    }
   ],
   "source": [
    "print(\"Accuracy:\",metrics.accuracy_score(y_test, y_pred))\n",
    "print(\"Precision:\",metrics.precision_score(y_test, y_pred, average=None))"
   ]
  },
  {
   "cell_type": "markdown",
   "metadata": {},
   "source": [
    "## Classifier #3\n",
    "### RBF KERNEL C = 10\n",
    "### Results:  \n",
    "1. training Took: __48 Minutes__  \n",
    "2. Accuracy: __52.9%__\n",
    "3. Precision: [0.42749731 0.58154297 0.44725371 0.46201413 0.72738854]  \n",
    "SVC(C=10, probability=True)"
   ]
  },
  {
   "cell_type": "code",
   "execution_count": 12,
   "metadata": {},
   "outputs": [
    {
     "name": "stdout",
     "output_type": "stream",
     "text": [
      "classifier initialized...\n",
      "classifier Trained...\n",
      "training Took: 2799.675438642502 second(s)\n"
     ]
    }
   ],
   "source": [
    "#Create a svm Classifier\n",
    "# SVC(C=1, gamma=1, kernel='poly')\n",
    "start = time.time()\n",
    "clf3 = SVC(C=10, probability=True)\n",
    "print(\"classifier initialized...\")\n",
    "\n",
    "#Train the model using the training sets\n",
    "clf3.fit(x_train, y_train)\n",
    "print(\"classifier Trained...\")\n",
    "end = time.time()\n",
    "print(f\"training Took: {end - start} second(s)\")\n",
    "#Predict the response for test dataset\n",
    "y_pred = clf3.predict(x_test)"
   ]
  },
  {
   "cell_type": "code",
   "execution_count": 13,
   "metadata": {},
   "outputs": [
    {
     "name": "stdout",
     "output_type": "stream",
     "text": [
      "Accuracy: 0.5288763859010426\n",
      "Precision: [0.42749731 0.58154297 0.44725371 0.46201413 0.72738854]\n"
     ]
    }
   ],
   "source": [
    "print(\"Accuracy:\",metrics.accuracy_score(y_test, y_pred))\n",
    "print(\"Precision:\",metrics.precision_score(y_test, y_pred, average=None))"
   ]
  },
  {
   "cell_type": "markdown",
   "metadata": {},
   "source": [
    "## Classifier #4\n",
    "### Results:  \n",
    "1. training Took: __38 Minutes__  \n",
    "2.  Accuracy: __53.55%__  \n",
    "3.  Precision: [0.45034642 0.57949692 0.46320346 0.46929825 0.71612903]  \n",
    "clf3 = SVC(C=10, probability=True)"
   ]
  },
  {
   "cell_type": "code",
   "execution_count": 7,
   "metadata": {},
   "outputs": [
    {
     "name": "stdout",
     "output_type": "stream",
     "text": [
      "classifier initialized...\n",
      "classifier Trained...\n",
      "training Took: 652.5544211864471 second(s)\n"
     ]
    }
   ],
   "source": [
    "#Create a svm Classifier\n",
    "# SVC(C=1, gamma=1, kernel='poly')\n",
    "start = time.time()\n",
    "clf4 = SVC(C=6)\n",
    "print(\"classifier initialized...\")\n",
    "\n",
    "#Train the model using the training sets\n",
    "clf4.fit(x_train, y_train)\n",
    "print(\"classifier Trained...\")\n",
    "end = time.time()\n",
    "print(f\"training Took: {end - start} second(s)\")\n",
    "#Predict the response for test dataset\n",
    "y_pred = clf4.predict(x_test)"
   ]
  },
  {
   "cell_type": "code",
   "execution_count": 8,
   "metadata": {},
   "outputs": [
    {
     "name": "stdout",
     "output_type": "stream",
     "text": [
      "Accuracy: 0.5354956147608804\n",
      "Precision: [0.45034642 0.57949692 0.46320346 0.46929825 0.71612903]\n"
     ]
    }
   ],
   "source": [
    "print(\"Accuracy:\",metrics.accuracy_score(y_test, y_pred))\n",
    "print(\"Precision:\",metrics.precision_score(y_test, y_pred, average=None))"
   ]
  },
  {
   "cell_type": "code",
   "execution_count": 9,
   "metadata": {},
   "outputs": [],
   "source": [
    "import pickle\n",
    "pickle.dump(clf4, open('models/LPQ/LPQ_V2.sav', 'wb'))"
   ]
  },
  {
   "cell_type": "markdown",
   "metadata": {},
   "source": [
    "## Classifier 5\n",
    "### RBF KERNEL C = 4, 8, 6\n",
    "### Results:\n",
    "1. training Took: __34 Minutes__\n",
    "2. Accuracy: __52.7%__\n",
    "3. Precision: [0.4 4166667 0.56712963 0.45691906 0.46774194 0.69794344]  \n",
    "clf5 = SVC(C=4, probability=True)"
   ]
  },
  {
   "cell_type": "code",
   "execution_count": 18,
   "metadata": {},
   "outputs": [
    {
     "name": "stdout",
     "output_type": "stream",
     "text": [
      "classifier initialized...\n",
      "classifier Trained...\n",
      "training Took: 2027.3620109558105 second(s)\n"
     ]
    }
   ],
   "source": [
    "start = time.time()\n",
    "clf5 = SVC(C=4, probability=True)\n",
    "print(\"classifier initialized...\")\n",
    "\n",
    "#Train the model using the training sets\n",
    "clf5.fit(x_train, y_train)\n",
    "print(\"classifier Trained...\")\n",
    "end = time.time()\n",
    "print(f\"training Took: {end - start} second(s)\")\n",
    "#Predict the response for test dataset\n",
    "y_pred = clf5.predict(x_test)"
   ]
  },
  {
   "cell_type": "code",
   "execution_count": 19,
   "metadata": {},
   "outputs": [
    {
     "name": "stdout",
     "output_type": "stream",
     "text": [
      "Accuracy: 0.5272215786860831\n",
      "Precision: [0.44166667 0.56712963 0.45691906 0.46774194 0.69794344]\n"
     ]
    }
   ],
   "source": [
    "print(\"Accuracy:\",metrics.accuracy_score(y_test, y_pred))\n",
    "print(\"Precision:\",metrics.precision_score(y_test, y_pred, average=None))"
   ]
  },
  {
   "cell_type": "markdown",
   "metadata": {},
   "source": [
    "### Classifier 5.2"
   ]
  },
  {
   "cell_type": "code",
   "execution_count": 24,
   "metadata": {},
   "outputs": [
    {
     "name": "stdout",
     "output_type": "stream",
     "text": [
      "classifier initialized...\n"
     ]
    }
   ],
   "source": [
    "#Create a svm Classifier\n",
    "# SVC(C=1, gamma=1, kernel='poly')\n",
    "start = time.time()\n",
    "clf52 = SVC(C=8, probability=True)\n",
    "print(\"classifier initialized...\")\n",
    "\n",
    "#Train the model using the training sets\n",
    "clf52.fit(x_train, y_train)\n",
    "print(\"classifier Trained...\")\n",
    "end = time.time()\n",
    "print(f\"training Took: {end - start} second(s)\")\n",
    "#Predict the response for test dataset\n",
    "y_pred = clf52.predict(x_test)"
   ]
  },
  {
   "cell_type": "code",
   "execution_count": null,
   "metadata": {},
   "outputs": [
    {
     "name": "stdout",
     "output_type": "stream",
     "text": [
      "Accuracy: 0.5272215786860831\n",
      "Precision: [0.44166667 0.56712963 0.45691906 0.46774194 0.69794344]\n"
     ]
    }
   ],
   "source": [
    "print(\"Accuracy:\",metrics.accuracy_score(y_test, y_pred))\n",
    "print(\"Precision:\",metrics.precision_score(y_test, y_pred, average=None))"
   ]
  },
  {
   "cell_type": "markdown",
   "metadata": {},
   "source": [
    "### Classifier #5.3"
   ]
  },
  {
   "cell_type": "code",
   "execution_count": 7,
   "metadata": {},
   "outputs": [
    {
     "name": "stdout",
     "output_type": "stream",
     "text": [
      "classifier initialized...\n",
      "classifier Trained...\n",
      "training Took: 1308.40673494339 second(s)\n"
     ]
    }
   ],
   "source": [
    "# SVC(C=1, gamma=1, kernel='poly')\n",
    "start = time.time()\n",
    "clf53 = SVC(C=6, gamma='scale' ,probability=True)\n",
    "print(\"classifier initialized...\")\n",
    "\n",
    "#Train the model using the training sets\n",
    "clf53.fit(x_train, y_train)\n",
    "print(\"classifier Trained...\")\n",
    "end = time.time()\n",
    "print(f\"training Took: {end - start} second(s)\")\n",
    "#Predict the response for test dataset\n",
    "y_pred = clf53.predict(x_test)"
   ]
  },
  {
   "cell_type": "code",
   "execution_count": 8,
   "metadata": {},
   "outputs": [
    {
     "name": "stdout",
     "output_type": "stream",
     "text": [
      "Accuracy: 0.42644381929505215\n",
      "Precision: [0.36281179 0.45757796 0.36055777 0.37790158 0.50589777]\n"
     ]
    }
   ],
   "source": [
    "print(\"Accuracy:\",metrics.accuracy_score(y_test, y_pred))\n",
    "print(\"Precision:\",metrics.precision_score(y_test, y_pred, average=None))"
   ]
  },
  {
   "cell_type": "markdown",
   "metadata": {},
   "source": [
    "## Classifier #6\n",
    "### POLY KERNEL\n",
    "### Results:\n",
    "1. training Took: __31 Minutes__\n",
    "2. Accuracy: __50.2%__\n",
    "3. Precision: [0.40698869 0.55824284 0.43989071 0.43815331 0.65288221]  \n",
    "clf6 = SVC(C=4, kernel='poly', probability=True)"
   ]
  },
  {
   "cell_type": "code",
   "execution_count": 20,
   "metadata": {},
   "outputs": [
    {
     "name": "stdout",
     "output_type": "stream",
     "text": [
      "classifier initialized...\n",
      "classifier Trained...\n",
      "training Took: 1814.20161318779 second(s)\n"
     ]
    }
   ],
   "source": [
    "#Create a svm Classifier\n",
    "# SVC(C=1, gamma=1, kernel='poly')\n",
    "start = time.time()\n",
    "clf6 = SVC(C=4, kernel='poly', probability=True)\n",
    "print(\"classifier initialized...\")\n",
    "\n",
    "#Train the model using the training sets\n",
    "clf6.fit(x_train, y_train)\n",
    "print(\"classifier Trained...\")\n",
    "end = time.time()\n",
    "print(f\"training Took: {end - start} second(s)\")\n",
    "#Predict the response for test dataset\n",
    "y_pred = clf6.predict(x_test)"
   ]
  },
  {
   "cell_type": "code",
   "execution_count": 21,
   "metadata": {},
   "outputs": [
    {
     "name": "stdout",
     "output_type": "stream",
     "text": [
      "Accuracy: 0.5020685090186994\n",
      "Precision: [0.40698869 0.55824284 0.43989071 0.43815331 0.65288221]\n"
     ]
    }
   ],
   "source": [
    "print(\"Accuracy:\",metrics.accuracy_score(y_test, y_pred))\n",
    "print(\"Precision:\",metrics.precision_score(y_test, y_pred, average=None))"
   ]
  },
  {
   "cell_type": "markdown",
   "metadata": {},
   "source": [
    "## Classifier  #7\n",
    "### POLY KERNEL degree = 5\n",
    "### Results:\n",
    "1. training Took: __29 Minutes__\n",
    "2. Accuracy: __49.2%__\n",
    "3. Precision: [0.37547893 0.55732648 0.43977591 0.44047619 0.61054994]  \n",
    "clf8 = SVC(C=4, degree=5,kernel='poly', probability=True)"
   ]
  },
  {
   "cell_type": "code",
   "execution_count": 22,
   "metadata": {},
   "outputs": [
    {
     "name": "stdout",
     "output_type": "stream",
     "text": [
      "classifier initialized...\n",
      "classifier Trained...\n",
      "training Took: 1712.7480235099792 second(s)\n"
     ]
    }
   ],
   "source": [
    "\n",
    "start = time.time()\n",
    "clf8 = SVC(C=4, degree=5,kernel='poly', probability=True)\n",
    "print(\"classifier initialized...\")\n",
    "\n",
    "#Train the model using the training sets\n",
    "clf8.fit(x_train, y_train)\n",
    "print(\"classifier Trained...\")\n",
    "end = time.time()\n",
    "print(f\"training Took: {end - start} second(s)\")\n",
    "#Predict the response for test dataset\n",
    "y_pred = clf8.predict(x_test)"
   ]
  },
  {
   "cell_type": "code",
   "execution_count": 23,
   "metadata": {},
   "outputs": [
    {
     "name": "stdout",
     "output_type": "stream",
     "text": [
      "Accuracy: 0.4918087042859507\n",
      "Precision: [0.37547893 0.55732648 0.43977591 0.44047619 0.61054994]\n"
     ]
    }
   ],
   "source": [
    "print(\"Accuracy:\",metrics.accuracy_score(y_test, y_pred))\n",
    "print(\"Precision:\",metrics.precision_score(y_test, y_pred, average=None))"
   ]
  }
 ],
 "metadata": {
  "interpreter": {
   "hash": "fac903841471747198614399c2b636b7d1738aa157e41a1819b23ccf7e493167"
  },
  "kernelspec": {
   "display_name": "Python 3.9.10 ('venv': venv)",
   "language": "python",
   "name": "python3"
  },
  "language_info": {
   "codemirror_mode": {
    "name": "ipython",
    "version": 3
   },
   "file_extension": ".py",
   "mimetype": "text/x-python",
   "name": "python",
   "nbconvert_exporter": "python",
   "pygments_lexer": "ipython3",
   "version": "3.9.10"
  },
  "orig_nbformat": 4
 },
 "nbformat": 4,
 "nbformat_minor": 2
}
