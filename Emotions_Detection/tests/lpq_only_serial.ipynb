{
 "cells": [
  {
   "cell_type": "code",
   "execution_count": 1,
   "metadata": {},
   "outputs": [],
   "source": [
    "import dask\n",
    "import dask_image.imread\n",
    "import dask.distributed\n",
    "import skimage.io as io\n",
    "\n",
    "import numpy as np\n",
    "\n",
    "from sklearn.svm import SVC\n",
    "from sklearn import metrics\n",
    "\n",
    "import os\n",
    "import sys\n",
    "current = os.path.dirname(os.path.realpath(os.getcwd()))\n",
    "parent = os.path.dirname(current)\n",
    "sys.path.append(parent)\n",
    "from Emotions_Detection.Models.features import lpq, lpq_plus, PHOG_Algorithm, LPQ, LPQPlus\n",
    "from Emotions_Detection.Assets.CommonFuntions import read_data"
   ]
  },
  {
   "cell_type": "code",
   "execution_count": 2,
   "metadata": {},
   "outputs": [],
   "source": [
    "# Constants and Vaiables\n",
    "IMG_TRAIN_PATH = \"../Assets/data/train\"\n",
    "IMG_TEST_PATH = \"../Assets/data/test\"\n",
    "HAPPY_PATH = \"../Assets/data/train/happy/\"\n",
    "\n",
    "train_folders = os.listdir(IMG_TRAIN_PATH)  # Emotions Folders\n",
    "test_folders = os.listdir(IMG_TEST_PATH)  # Emotions Folders\n",
    "\n",
    "# Intialize dash board for DASK\n",
    "# client = dask.distributed.Client()  # Create a local cluster  "
   ]
  },
  {
   "cell_type": "code",
   "execution_count": 3,
   "metadata": {},
   "outputs": [],
   "source": [
    "train_imgs, y_train = read_data(IMG_TRAIN_PATH)"
   ]
  },
  {
   "cell_type": "code",
   "execution_count": 4,
   "metadata": {},
   "outputs": [],
   "source": [
    "test_imgs, y_test = read_data(IMG_TEST_PATH)"
   ]
  },
  {
   "cell_type": "code",
   "execution_count": 8,
   "metadata": {},
   "outputs": [],
   "source": [
    "lpq_cls = LPQ()\n",
    "lpq_feats_train = []\n",
    "lpq_feats_test = []\n",
    "for img in train_imgs:\n",
    "    lpq_feats_train.append(lpq_cls.compute(img))\n",
    "\n",
    "for img in test_imgs:\n",
    "    lpq_feats_test.append(lpq_cls.compute(img))"
   ]
  },
  {
   "cell_type": "code",
   "execution_count": 9,
   "metadata": {},
   "outputs": [],
   "source": [
    "x_train = lpq_feats_train\n",
    "x_test = lpq_feats_test"
   ]
  },
  {
   "cell_type": "code",
   "execution_count": 12,
   "metadata": {},
   "outputs": [
    {
     "name": "stdout",
     "output_type": "stream",
     "text": [
      "classifier initialized...\n",
      "classifier Trained...\n"
     ]
    }
   ],
   "source": [
    "#Create a svm Classifier\n",
    "# SVC(C=1, gamma=1, kernel='poly')\n",
    "clf = SVC(C=1, gamma=1)\n",
    "print(\"classifier initialized...\")\n",
    "\n",
    "#Train the model using the training sets\n",
    "clf.fit(x_train, y_train)\n",
    "print(\"classifier Trained...\")\n",
    "\n",
    "#Predict the response for test dataset\n",
    "y_pred = clf.predict(x_test)"
   ]
  },
  {
   "cell_type": "code",
   "execution_count": 15,
   "metadata": {},
   "outputs": [
    {
     "name": "stdout",
     "output_type": "stream",
     "text": [
      "Accuracy: 0.3152688771245472\n",
      "Precision: [0.95454545 1.         0.90816327 0.26582658 0.93478261 0.92857143\n",
      " 0.98695652]\n"
     ]
    }
   ],
   "source": [
    "print(\"Accuracy:\",metrics.accuracy_score(y_test, y_pred))\n",
    "print(\"Precision:\",metrics.precision_score(y_test, y_pred, average=None))"
   ]
  },
  {
   "cell_type": "code",
   "execution_count": 18,
   "metadata": {},
   "outputs": [
    {
     "data": {
      "text/plain": [
       "(7178,)"
      ]
     },
     "execution_count": 18,
     "metadata": {},
     "output_type": "execute_result"
    }
   ],
   "source": [
    "y_pred.shape"
   ]
  },
  {
   "cell_type": "code",
   "execution_count": 20,
   "metadata": {},
   "outputs": [
    {
     "data": {
      "text/plain": [
       "7178"
      ]
     },
     "execution_count": 20,
     "metadata": {},
     "output_type": "execute_result"
    }
   ],
   "source": [
    "len(y_test)"
   ]
  },
  {
   "cell_type": "code",
   "execution_count": null,
   "metadata": {},
   "outputs": [],
   "source": []
  }
 ],
 "metadata": {
  "interpreter": {
   "hash": "98ca4c7740d656dc326b4981feee653cd0736f502322746e74ae2b54f55f1ad2"
  },
  "kernelspec": {
   "display_name": "Python 3.9.10 ('venv': venv)",
   "language": "python",
   "name": "python3"
  },
  "language_info": {
   "codemirror_mode": {
    "name": "ipython",
    "version": 3
   },
   "file_extension": ".py",
   "mimetype": "text/x-python",
   "name": "python",
   "nbconvert_exporter": "python",
   "pygments_lexer": "ipython3",
   "version": "3.9.10"
  },
  "orig_nbformat": 4
 },
 "nbformat": 4,
 "nbformat_minor": 2
}
