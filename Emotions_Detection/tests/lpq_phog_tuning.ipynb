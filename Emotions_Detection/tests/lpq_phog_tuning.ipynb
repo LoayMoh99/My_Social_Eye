{
 "cells": [
  {
   "cell_type": "code",
   "execution_count": 15,
   "metadata": {},
   "outputs": [],
   "source": [
    "import skimage.io as io\n",
    "import numpy as np\n",
    "from sklearn.svm import SVC\n",
    "from sklearn import metrics\n",
    "\n",
    "import os\n",
    "import sys\n",
    "import pickle\n",
    "import time\n",
    "\n",
    "current = os.path.dirname(os.path.realpath(os.getcwd()))\n",
    "parent = os.path.dirname(current)\n",
    "sys.path.append(parent)\n",
    "from Emotions_Detection.Models.features import lpq, lpq_plus, PHOG_Algorithm, LPQ, LPQPlus\n",
    "from Emotions_Detection.Assets.CommonFuntions import read_data"
   ]
  },
  {
   "cell_type": "code",
   "execution_count": 2,
   "metadata": {},
   "outputs": [],
   "source": [
    "# Constants and Vaiables\n",
    "IMG_TRAIN_PATH = \"../Assets/data/train\"\n",
    "IMG_TEST_PATH = \"../Assets/data/test\"\n",
    "HAPPY_PATH = \"../Assets/data/train/happy/\"\n",
    "\n",
    "train_folders = os.listdir(IMG_TRAIN_PATH)  # Emotions Folders\n",
    "test_folders = os.listdir(IMG_TEST_PATH)  # Emotions Folders"
   ]
  },
  {
   "cell_type": "code",
   "execution_count": 3,
   "metadata": {},
   "outputs": [
    {
     "name": "stdout",
     "output_type": "stream",
     "text": [
      "happy 7215\n",
      "sad 4830\n",
      "surprised 3171\n"
     ]
    }
   ],
   "source": [
    "train_imgs, y_train = read_data(IMG_TRAIN_PATH)"
   ]
  },
  {
   "cell_type": "code",
   "execution_count": 4,
   "metadata": {},
   "outputs": [
    {
     "name": "stdout",
     "output_type": "stream",
     "text": [
      "happy 1774\n",
      "sad 1247\n",
      "surprised 831\n"
     ]
    }
   ],
   "source": [
    "test_imgs, y_test = read_data(IMG_TEST_PATH)"
   ]
  },
  {
   "cell_type": "code",
   "execution_count": 5,
   "metadata": {},
   "outputs": [],
   "source": [
    "lpq_cls = LPQ()\n",
    "lpq_feats_train = []\n",
    "lpq_feats_test = []\n",
    "for img in train_imgs:\n",
    "    lpq_feats_train.append(lpq_cls.compute(img))\n",
    "\n",
    "for img in test_imgs:\n",
    "    lpq_feats_test.append(lpq_cls.compute(img))"
   ]
  },
  {
   "cell_type": "code",
   "execution_count": 6,
   "metadata": {},
   "outputs": [],
   "source": [
    "phog_feats_train = []\n",
    "phog_feats_test = []\n",
    "for img in train_imgs:\n",
    "    phog_feats_train.append(PHOG_Algorithm(img))\n",
    "\n",
    "for img in test_imgs:\n",
    "    phog_feats_test.append(PHOG_Algorithm(img))"
   ]
  },
  {
   "cell_type": "code",
   "execution_count": 7,
   "metadata": {},
   "outputs": [
    {
     "data": {
      "text/plain": [
       "((15216, 935), (3852, 935))"
      ]
     },
     "execution_count": 7,
     "metadata": {},
     "output_type": "execute_result"
    }
   ],
   "source": [
    "x_train = np.concatenate((lpq_feats_train, phog_feats_train), axis=1)\n",
    "x_test = np.concatenate((lpq_feats_test, phog_feats_test), axis=1)\n",
    "x_train.shape, x_test.shape"
   ]
  },
  {
   "cell_type": "markdown",
   "metadata": {},
   "source": [
    "## Classifier 1 \n",
    "### C = 6"
   ]
  },
  {
   "cell_type": "code",
   "execution_count": 8,
   "metadata": {},
   "outputs": [
    {
     "name": "stdout",
     "output_type": "stream",
     "text": [
      "classifier initialized...\n",
      "classifier Trained...\n"
     ]
    }
   ],
   "source": [
    "#Create a svm Classifier\n",
    "# SVC(C=1, gamma=1, kernel='poly')\n",
    "clf1 = SVC(C=6)\n",
    "print(\"classifier initialized...\")\n",
    "\n",
    "#Train the model using the training sets\n",
    "clf1.fit(x_train, y_train)\n",
    "print(\"classifier Trained...\")\n",
    "\n",
    "#Predict the response for test dataset\n",
    "y_pred = clf1.predict(x_test)"
   ]
  },
  {
   "cell_type": "code",
   "execution_count": 9,
   "metadata": {},
   "outputs": [
    {
     "name": "stdout",
     "output_type": "stream",
     "text": [
      "Accuracy: 0.5166308125103426\n",
      "Precision: [0.44308446 0.56164384 0.43982684 0.45131938 0.67263427]\n"
     ]
    }
   ],
   "source": [
    "print(\"Accuracy:\",metrics.accuracy_score(y_test, y_pred))\n",
    "print(\"Precision:\",metrics.precision_score(y_test, y_pred, average=None))"
   ]
  },
  {
   "cell_type": "code",
   "execution_count": 10,
   "metadata": {},
   "outputs": [],
   "source": [
    "import pickle\n",
    "pickle.dump(clf1, open('models/lpq_phog/lpq_phog_V1.sav', 'wb'))"
   ]
  },
  {
   "cell_type": "markdown",
   "metadata": {},
   "source": [
    "## Classifier #2\n",
    "### C = 6,  gamma = 1"
   ]
  },
  {
   "cell_type": "code",
   "execution_count": 11,
   "metadata": {},
   "outputs": [
    {
     "name": "stdout",
     "output_type": "stream",
     "text": [
      "classifier initialized...\n",
      "classifier Trained...\n"
     ]
    }
   ],
   "source": [
    "clf2 = SVC(C=6, gamma=1)\n",
    "print(\"classifier initialized...\")\n",
    "\n",
    "#Train the model using the training sets\n",
    "clf2.fit(x_train, y_train)\n",
    "print(\"classifier Trained...\")\n",
    "\n",
    "#Predict the response for test dataset\n",
    "y_pred = clf2.predict(x_test)"
   ]
  },
  {
   "cell_type": "code",
   "execution_count": 12,
   "metadata": {},
   "outputs": [
    {
     "name": "stdout",
     "output_type": "stream",
     "text": [
      "Accuracy: 0.442164487837167\n",
      "Precision: [0.88235294 0.35552764 0.60841424 0.66865672 0.91055046]\n"
     ]
    }
   ],
   "source": [
    "print(\"Accuracy:\",metrics.accuracy_score(y_test, y_pred))\n",
    "print(\"Precision:\",metrics.precision_score(y_test, y_pred, average=None))"
   ]
  },
  {
   "cell_type": "markdown",
   "metadata": {},
   "source": [
    "## Classifier #3\n",
    "### C = 8"
   ]
  },
  {
   "cell_type": "code",
   "execution_count": 9,
   "metadata": {},
   "outputs": [
    {
     "name": "stdout",
     "output_type": "stream",
     "text": [
      "classifier initialized...\n",
      "classifier Trained...\n"
     ]
    }
   ],
   "source": [
    "clf3 = SVC(C=8)\n",
    "print(\"classifier initialized...\")\n",
    "\n",
    "#Train the model using the training sets\n",
    "clf3.fit(x_train, y_train)\n",
    "print(\"classifier Trained...\")\n",
    "\n",
    "#Predict the response for test dataset\n",
    "y_pred = clf3.predict(x_test)"
   ]
  },
  {
   "cell_type": "code",
   "execution_count": 10,
   "metadata": {},
   "outputs": [
    {
     "name": "stdout",
     "output_type": "stream",
     "text": [
      "Accuracy: 0.5872173058013765\n",
      "Precision: [0.61442308 0.49911032 0.52983081 0.72823219]\n"
     ]
    }
   ],
   "source": [
    "print(\"Accuracy:\",metrics.accuracy_score(y_test, y_pred))\n",
    "print(\"Precision:\",metrics.precision_score(y_test, y_pred, average=None))"
   ]
  },
  {
   "cell_type": "markdown",
   "metadata": {},
   "source": [
    "## Classifier #4 \n",
    "### Changing the PHOG levels"
   ]
  },
  {
   "cell_type": "code",
   "execution_count": 13,
   "metadata": {},
   "outputs": [],
   "source": [
    "phog_feats_train = []\n",
    "phog_feats_test = []\n",
    "for img in train_imgs:\n",
    "    phog_feats_train.append(PHOG_Algorithm(img, numberOfLevels=2))\n",
    "\n",
    "for img in test_imgs:\n",
    "    phog_feats_test.append(PHOG_Algorithm(img, numberOfLevels=2))"
   ]
  },
  {
   "cell_type": "code",
   "execution_count": 14,
   "metadata": {},
   "outputs": [
    {
     "data": {
      "text/plain": [
       "((24176, 423), (6043, 423))"
      ]
     },
     "execution_count": 14,
     "metadata": {},
     "output_type": "execute_result"
    }
   ],
   "source": [
    "x_train = np.concatenate((lpq_feats_train, phog_feats_train), axis=1)\n",
    "x_test = np.concatenate((lpq_feats_test, phog_feats_test), axis=1)\n",
    "x_train.shape, x_test.shape"
   ]
  },
  {
   "cell_type": "code",
   "execution_count": 19,
   "metadata": {},
   "outputs": [
    {
     "name": "stdout",
     "output_type": "stream",
     "text": [
      "classifier initialized...\n",
      "classifier Trained...\n"
     ]
    }
   ],
   "source": [
    "clf4 = SVC(C=8)\n",
    "print(\"classifier initialized...\")\n",
    "\n",
    "#Train the model using the training sets\n",
    "clf4.fit(x_train, y_train)\n",
    "print(\"classifier Trained...\")\n",
    "\n",
    "#Predict the response for test dataset\n",
    "y_pred = clf4.predict(x_test)"
   ]
  },
  {
   "cell_type": "code",
   "execution_count": 20,
   "metadata": {},
   "outputs": [
    {
     "name": "stdout",
     "output_type": "stream",
     "text": [
      "Accuracy: 0.5325169617739534\n",
      "Precision: [0.43764172 0.5819398  0.45945946 0.46945899 0.7083871 ]\n"
     ]
    }
   ],
   "source": [
    "print(\"Accuracy:\",metrics.accuracy_score(y_test, y_pred))\n",
    "print(\"Precision:\",metrics.precision_score(y_test, y_pred, average=None))"
   ]
  },
  {
   "cell_type": "code",
   "execution_count": null,
   "metadata": {},
   "outputs": [],
   "source": [
    "pickle.dump(clf4, open('models/lpq_phog/lpq_phog_V2.sav', 'wb'))"
   ]
  },
  {
   "cell_type": "markdown",
   "metadata": {},
   "source": [
    "## Classifier #5\n",
    "### Results:\n",
    "1. Classifier Took:  __27 Minutes__.\n",
    "2. Accuracy: __52.7%__.\n",
    "3. Precision: [0.42047714 0.59164149 0.44252377 0.45852325 0.71643664].  \n",
    "clf5 = SVC(C=100)"
   ]
  },
  {
   "cell_type": "code",
   "execution_count": 21,
   "metadata": {},
   "outputs": [
    {
     "name": "stdout",
     "output_type": "stream",
     "text": [
      "classifier initialized...\n",
      "classifier Trained...\n"
     ]
    }
   ],
   "source": [
    "clf5 = SVC(C=100)\n",
    "print(\"classifier initialized...\")\n",
    "\n",
    "#Train the model using the training sets\n",
    "clf5.fit(x_train, y_train)\n",
    "print(\"classifier Trained...\")\n",
    "\n",
    "#Predict the response for test dataset\n",
    "y_pred = clf5.predict(x_test)"
   ]
  },
  {
   "cell_type": "code",
   "execution_count": 22,
   "metadata": {},
   "outputs": [
    {
     "name": "stdout",
     "output_type": "stream",
     "text": [
      "Accuracy: 0.5268906172430912\n",
      "Precision: [0.42047714 0.59164149 0.44252377 0.45852325 0.71643664]\n"
     ]
    }
   ],
   "source": [
    "print(\"Accuracy:\",metrics.accuracy_score(y_test, y_pred))\n",
    "print(\"Precision:\",metrics.precision_score(y_test, y_pred, average=None))"
   ]
  },
  {
   "cell_type": "markdown",
   "metadata": {},
   "source": [
    "## Classifier 6"
   ]
  },
  {
   "cell_type": "code",
   "execution_count": null,
   "metadata": {},
   "outputs": [],
   "source": [
    "clf6 = SVC(C=8)\n",
    "print(\"classifier initialized...\")\n",
    "\n",
    "#Train the model using the training sets\n",
    "clf6.fit(x_train, y_train)\n",
    "print(\"classifier Trained...\")\n",
    "\n",
    "#Predict the response for test dataset\n",
    "y_pred = clf6.predict(x_test)"
   ]
  },
  {
   "cell_type": "code",
   "execution_count": null,
   "metadata": {},
   "outputs": [],
   "source": [
    "print(\"Accuracy:\",metrics.accuracy_score(y_test, y_pred))\n",
    "print(\"Precision:\",metrics.precision_score(y_test, y_pred, average=None))"
   ]
  },
  {
   "cell_type": "markdown",
   "metadata": {},
   "source": [
    "### Classifier 6.2\n",
    "#### Results (4 Emotions):\n",
    "1. Classifier Took: __8 Minutes__.\n",
    "2. Accuracy: __70.64%__.\n",
    "3. Precision: [0.72050341 0.63826232 0.77941176].  \n",
    "    clf62 = SVC(C=8)"
   ]
  },
  {
   "cell_type": "code",
   "execution_count": 12,
   "metadata": {},
   "outputs": [
    {
     "name": "stdout",
     "output_type": "stream",
     "text": [
      "classifier initialized...\n",
      "classifier Trained...\n"
     ]
    }
   ],
   "source": [
    "clf62 = SVC(C=8)\n",
    "print(\"classifier initialized...\")\n",
    "\n",
    "#Train the model using the training sets\n",
    "clf62.fit(x_train, y_train)\n",
    "print(\"classifier Trained...\")\n",
    "\n",
    "#Predict the response for test dataset\n",
    "y_pred = clf62.predict(x_test)"
   ]
  },
  {
   "cell_type": "code",
   "execution_count": 13,
   "metadata": {},
   "outputs": [
    {
     "name": "stdout",
     "output_type": "stream",
     "text": [
      "Accuracy: 0.706386292834891\n",
      "Precision: [0.72050341 0.63826232 0.77941176]\n"
     ]
    }
   ],
   "source": [
    "print(\"Accuracy:\",metrics.accuracy_score(y_test, y_pred))\n",
    "print(\"Precision:\",metrics.precision_score(y_test, y_pred, average=None))"
   ]
  },
  {
   "cell_type": "code",
   "execution_count": 14,
   "metadata": {},
   "outputs": [],
   "source": [
    "import pickle\n",
    "pickle.dump(clf62, open('models/lpq_phog/lpg_phogV3_3.sav', 'wb'))"
   ]
  }
 ],
 "metadata": {
  "interpreter": {
   "hash": "fac903841471747198614399c2b636b7d1738aa157e41a1819b23ccf7e493167"
  },
  "kernelspec": {
   "display_name": "Python 3.9.10 ('venv': venv)",
   "language": "python",
   "name": "python3"
  },
  "language_info": {
   "codemirror_mode": {
    "name": "ipython",
    "version": 3
   },
   "file_extension": ".py",
   "mimetype": "text/x-python",
   "name": "python",
   "nbconvert_exporter": "python",
   "pygments_lexer": "ipython3",
   "version": "3.9.10"
  },
  "orig_nbformat": 4
 },
 "nbformat": 4,
 "nbformat_minor": 2
}
