{
 "cells": [
  {
   "cell_type": "code",
   "execution_count": 1,
   "metadata": {},
   "outputs": [],
   "source": [
    "import numpy as np\n",
    "from scipy.signal import convolve2d\n",
    "import skimage.io as io\n",
    "import pandas as pd"
   ]
  },
  {
   "cell_type": "code",
   "execution_count": 2,
   "metadata": {},
   "outputs": [],
   "source": [
    "img = io.imread('../test_images/img7.jpg', as_gray=True)\n",
    "WIN_SIZE: int = 11\n",
    "ALPHA: float = 1 / WIN_SIZE\n",
    "CONV_MODE:str = 'valid'\n",
    "WIN_RADIUS: int = (WIN_SIZE - 1) // 2 \n",
    "Q_LEVELS: int = 8\n",
    "FUND_ANGLE: float = (2 * np.pi) / Q_LEVELS\n",
    "VOTE_ALPHA: int = 2"
   ]
  },
  {
   "cell_type": "code",
   "execution_count": 3,
   "metadata": {},
   "outputs": [
    {
     "name": "stdout",
     "output_type": "stream",
     "text": [
      "(1, 11)\n"
     ]
    }
   ],
   "source": [
    "x = np.arange(-WIN_RADIUS,WIN_RADIUS+1)[np.newaxis]\n",
    "w0 = np.ones_like(x)\n",
    "w1 = np.exp(-2*np.pi*x*ALPHA*1j)\n",
    "w2 = np.conj(w1)\n",
    "print(w0.shape)"
   ]
  },
  {
   "cell_type": "markdown",
   "metadata": {},
   "source": [
    "#### Calculate the filters responses and local phases"
   ]
  },
  {
   "cell_type": "code",
   "execution_count": 31,
   "metadata": {},
   "outputs": [],
   "source": [
    "filterResp1: np.ndarray = convolve2d(convolve2d(img, w0.T, CONV_MODE),w1,CONV_MODE) # (0, a)\n",
    "filterResp2: np.ndarray = convolve2d(convolve2d(img, w1.T, CONV_MODE),w0,CONV_MODE) # (a, 0)\n",
    "filterResp3: np.ndarray = convolve2d(convolve2d(img, w1.T, CONV_MODE),w1,CONV_MODE) # (a, a)\n",
    "filterResp4: np.ndarray = convolve2d(convolve2d(img, w1.T, CONV_MODE),w2,CONV_MODE) # (a, -a)\n",
    "\n",
    "# Local Phases of the Responses\n",
    "theta1 = np.arctan2(filterResp1.imag, filterResp1.real)\n",
    "theta2 = np.arctan2(filterResp2.imag, filterResp2.real)\n",
    "theta3 = np.arctan2(filterResp3.imag, filterResp3.real)\n",
    "theta4 = np.arctan2(filterResp4.imag, filterResp4.real)"
   ]
  },
  {
   "cell_type": "code",
   "execution_count": 51,
   "metadata": {},
   "outputs": [],
   "source": [
    "angles = [FUND_ANGLE * i for i in range(Q_LEVELS)]\n",
    "\n",
    "vote1 = np.array(list(map(lambda theta: (np.cos(theta1 - theta)**VOTE_ALPHA).sum(), angles)))\n",
    "vote2 = np.array(list(map(lambda theta: (np.cos(theta2 - theta)**VOTE_ALPHA).sum(), angles)))\n",
    "vote3 = np.array(list(map(lambda theta: (np.cos(theta3 - theta)**VOTE_ALPHA).sum(), angles)))\n",
    "vote4 = np.array(list(map(lambda theta: (np.cos(theta4 - theta)**VOTE_ALPHA).sum(), angles)))"
   ]
  },
  {
   "cell_type": "code",
   "execution_count": 68,
   "metadata": {},
   "outputs": [],
   "source": [
    "# Normailze the data\n",
    "vote1 = vote1 / vote1.sum()\n",
    "vote2 = vote2 / vote2.sum()\n",
    "vote3 = vote3 / vote3.sum()\n",
    "vote4 = vote4 / vote4.sum()\n",
    "lpq_desq = np.concatenate((vote1, vote2, vote3, vote4))"
   ]
  },
  {
   "cell_type": "code",
   "execution_count": 69,
   "metadata": {},
   "outputs": [
    {
     "data": {
      "text/plain": [
       "<BarContainer object of 32 artists>"
      ]
     },
     "execution_count": 69,
     "metadata": {},
     "output_type": "execute_result"
    },
    {
     "data": {
      "image/png": "[encoded data removed]",
      "text/plain": [
       "<Figure size 432x288 with 1 Axes>"
      ]
     },
     "metadata": {
      "needs_background": "light"
     },
     "output_type": "display_data"
    }
   ],
   "source": [
    "import matplotlib.pyplot as plt\n",
    "x_axis =  [((FUND_ANGLE*180/np.pi)*i)%(360) for i in range(32)]\n",
    "x_axis = np.arange(32)\n",
    "plt.bar(x_axis, lpq_desq)"
   ]
  },
  {
   "cell_type": "code",
   "execution_count": 66,
   "metadata": {},
   "outputs": [
    {
     "data": {
      "text/plain": [
       "array([0.40216192, 0.63198059, 1.        , 0.77018133, 0.40216192,\n",
       "       0.63198059, 1.        , 0.77018133])"
      ]
     },
     "execution_count": 66,
     "metadata": {},
     "output_type": "execute_result"
    }
   ],
   "source": []
  },
  {
   "cell_type": "code",
   "execution_count": null,
   "metadata": {},
   "outputs": [],
   "source": []
  }
 ],
 "metadata": {
  "interpreter": {
   "hash": "f945a4b828760ece16418cb04f27ee156f2b4b7c1bd8754eee1c549ef6e79166"
  },
  "kernelspec": {
   "display_name": "venv",
   "language": "python",
   "name": "python3"
  },
  "language_info": {
   "codemirror_mode": {
    "name": "ipython",
    "version": 3
   },
   "file_extension": ".py",
   "mimetype": "text/x-python",
   "name": "python",
   "nbconvert_exporter": "python",
   "pygments_lexer": "ipython3",
   "version": "3.9.10"
  },
  "orig_nbformat": 4
 },
 "nbformat": 4,
 "nbformat_minor": 2
}
