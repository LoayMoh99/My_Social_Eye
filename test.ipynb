{
 "cells": [
  {
   "cell_type": "code",
   "execution_count": 21,
   "metadata": {},
   "outputs": [],
   "source": [
    "import dlib\n",
    "import cv2\n",
    "import numpy as np"
   ]
  },
  {
   "cell_type": "code",
   "execution_count": 2,
   "metadata": {},
   "outputs": [],
   "source": [
    "predictor_path = \"C:/Collage/GP/My_Social_Eye/Speaker_Detection/face_landmarks/shape_predictor_68_face_landmarks.dat\"\n",
    "\n",
    "# load the dlib feature extractor and face detector:\n",
    "detector = dlib.get_frontal_face_detector()\n",
    "predictor = dlib.shape_predictor(predictor_path)"
   ]
  },
  {
   "cell_type": "code",
   "execution_count": 24,
   "metadata": {},
   "outputs": [],
   "source": [
    "# load the video:\n",
    "TestDir = \"C:\\\\Collage\\\\GP\\\\test\\\\\"\n",
    "cap = cv2.VideoCapture(TestDir+\"sleep.mp4\")\n",
    "success, img = cap.read()"
   ]
  },
  {
   "cell_type": "code",
   "execution_count": 14,
   "metadata": {},
   "outputs": [
    {
     "name": "stdout",
     "output_type": "stream",
     "text": [
      "[(239, 82) (368, 211)]\n"
     ]
    }
   ],
   "source": [
    "#dlib face detector\n",
    "dets = detector(img, 1)\n",
    "for _, d in enumerate(dets):\n",
    "    print(d)"
   ]
  },
  {
   "cell_type": "code",
   "execution_count": 29,
   "metadata": {},
   "outputs": [
    {
     "name": "stdout",
     "output_type": "stream",
     "text": [
      "min area 426\n",
      "max area 538\n",
      "avg area 450.3445945945946\n"
     ]
    }
   ],
   "source": [
    "#cascade face detector\n",
    "from Emotions_Detection.Models.face_detection import get_faces_from_image\n",
    "# load the video:\n",
    "TestDir = \"C:\\\\Collage\\\\GP\\\\test\\\\\"\n",
    "cap = cv2.VideoCapture(TestDir+\"speaking_challenge.mp4\")\n",
    "success, img = cap.read()\n",
    "areas = []\n",
    "while success:\n",
    "    faces = get_faces_from_image(img, is_dir=False, is_gray=False)\n",
    "    for face in faces:\n",
    "        area = face[2]\n",
    "        areas.append(area)\n",
    "    success, img = cap.read()\n",
    "areas = np.array(areas)\n",
    "print('min area', np.min(areas))\n",
    "print('max area', np.max(areas))\n",
    "print('avg area', np.mean(areas))\n",
    "cap.release()"
   ]
  },
  {
   "cell_type": "code",
   "execution_count": 28,
   "metadata": {},
   "outputs": [
    {
     "name": "stdout",
     "output_type": "stream",
     "text": [
      "min area 481\n",
      "max area 514\n",
      "avg area 500.5913043478261\n"
     ]
    }
   ],
   "source": [
    "#cascade face detector\n",
    "from Emotions_Detection.Models.face_detection import get_faces_from_image\n",
    "# load the video:\n",
    "TestDir = \"C:\\\\Collage\\\\GP\\\\test\\\\\"\n",
    "cap = cv2.VideoCapture(TestDir+\"no_speak.mp4\")\n",
    "success, img = cap.read()\n",
    "areas = []\n",
    "while success:\n",
    "    faces = get_faces_from_image(img, is_dir=False, is_gray=False)\n",
    "    for face in faces:\n",
    "        area = face[2]\n",
    "        areas.append(area)\n",
    "    success, img = cap.read()\n",
    "areas = np.array(areas)\n",
    "print('min area', np.min(areas))\n",
    "print('max area', np.max(areas))\n",
    "print('avg area', np.mean(areas))"
   ]
  }
 ],
 "metadata": {
  "interpreter": {
   "hash": "d9e680d06122cdd8b9fab206c67f73e71277f14c1e1cda562406504f9090176a"
  },
  "kernelspec": {
   "display_name": "Python 3.8.12 ('cufe')",
   "language": "python",
   "name": "python3"
  },
  "language_info": {
   "codemirror_mode": {
    "name": "ipython",
    "version": 3
   },
   "file_extension": ".py",
   "mimetype": "text/x-python",
   "name": "python",
   "nbconvert_exporter": "python",
   "pygments_lexer": "ipython3",
   "version": "3.8.12"
  },
  "orig_nbformat": 4
 },
 "nbformat": 4,
 "nbformat_minor": 2
}
