{
    "cells": [
        {
            "cell_type": "code",
            "execution_count": 1,
            "metadata": {},
            "outputs": [],
            "source": [
                "from commonfunctions import *\n",
                "import cv2 as cv\n",
                "import os\n",
                "import bz2\n",
                "import shutil\n",
                "import dlib"
            ]
        },
        {
            "cell_type": "code",
            "execution_count": 2,
            "metadata": {},
            "outputs": [],
            "source": [
                "# remove content open/close directories:\n",
                "try:\n",
                "    shutil.rmtree(\"./train_open_mouth/\")\n",
                "except:\n",
                "    pass\n",
                "try:\n",
                "    shutil.rmtree(\"./train_close_mouth/\")\n",
                "except:\n",
                "    pass\n",
                "\n",
                "os.mkdir(\"./train_open_mouth/\")\n",
                "os.mkdir(\"./train_close_mouth/\")"
            ]
        },
        {
            "cell_type": "code",
            "execution_count": 3,
            "metadata": {},
            "outputs": [],
            "source": [
                "\n",
                "predictor_path = \"C:/Collage/GP/My_Social_Eye/Speaker_Detection/face_landmarks/shape_predictor_68_face_landmarks.dat\"\n",
                "\n",
                "# load the dlib feature extractor and face detector:\n",
                "detector = dlib.get_frontal_face_detector()\n",
                "predictor = dlib.shape_predictor(predictor_path)"
            ]
        },
        {
            "cell_type": "code",
            "execution_count": 4,
            "metadata": {},
            "outputs": [
                {
                    "name": "stdout",
                    "output_type": "stream",
                    "text": [
                        "831_fa.ppm\n",
                        "831_fb.ppm\n",
                        "230_fa.ppm\n",
                        "230_fb.ppm\n",
                        "128_fa.ppm\n",
                        "128_fb.ppm\n",
                        "422_fa.ppm\n",
                        "422_fb.ppm\n",
                        "928_fa.ppm\n",
                        "928_fb.ppm\n"
                    ]
                }
            ],
            "source": [
                "path = \"C:/Collage/GP/test/colorferet/dvd1/data/images/00002\"\n",
                "train_path =\"C:/Collage/GP/My_Social_Eye/Speaker_Detection/mouth_detection/train_close_mouth\"\n",
                "THRESHOLD_OPEN = 5.5\n",
                "THRESHOLD_CLOSE = 0.25\n",
                "\n",
                "# unzip files\n",
                "for path, dirs, files in os.walk(path):\n",
                "    for filename in files:\n",
                "        basename, ext = os.path.splitext(filename)\n",
                "        if ext.lower() != '.bz2':\n",
                "            continue\n",
                "        fullname = os.path.join(path, filename)\n",
                "        newname = os.path.join(path, basename)\n",
                "        with bz2.open(fullname) as fh, open(newname, 'wb') as fw:\n",
                "            shutil.copyfileobj(fh, fw)\n",
                "            # frontal faces only:\n",
                "            if 'fa' in newname[-10:] or 'fb' in newname[-10:]:\n",
                "                print(newname[-10:])\n",
                "                img = cv.imread(newname)\n",
                "                cv.imwrite(\"{name}.jpg\".format(name=newname[:-4]), img)\n",
                "                # move to train folder:\n",
                "                shutil.move(\"{name}.jpg\".format(name=newname[:-4]), train_path)\n",
                "                \n"
            ]
        },
        {
            "cell_type": "code",
            "execution_count": null,
            "metadata": {},
            "outputs": [],
            "source": []
        }
    ],
    "metadata": {
        "kernelspec": {
            "display_name": "Python 3.8.12 ('cufe')",
            "language": "python",
            "name": "python3"
        },
        "language_info": {
            "codemirror_mode": {
                "name": "ipython",
                "version": 3
            },
            "file_extension": ".py",
            "mimetype": "text/x-python",
            "name": "python",
            "nbconvert_exporter": "python",
            "pygments_lexer": "ipython3",
            "version": "3.8.12"
        },
        "orig_nbformat": 4,
        "vscode": {
            "interpreter": {
                "hash": "3cdc2ecdd60dced0a09eee11361aead9c88c611efee536d4cb0c0677d944af6b"
            }
        }
    },
    "nbformat": 4,
    "nbformat_minor": 2
}
